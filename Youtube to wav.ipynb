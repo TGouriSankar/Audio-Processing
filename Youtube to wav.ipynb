{
 "cells": [
  {
   "cell_type": "markdown",
   "id": "a4fe2731",
   "metadata": {},
   "source": [
    "<h1 style=\"color:orange\"><center>YOUTUBE VIEDO TO WAV FILE</center></h1>"
   ]
  },
  {
   "cell_type": "markdown",
   "id": "e9f7ca75",
   "metadata": {},
   "source": [
    "<h3>DOWNLOADING YOUTUBE VIEDO</h3>"
   ]
  },
  {
   "cell_type": "markdown",
   "id": "d9580a47",
   "metadata": {},
   "source": [
    "**Required Libraries :-** <h4 style=\"color:orange\"> pytube </h4>"
   ]
  },
  {
   "cell_type": "code",
   "execution_count": 1,
   "id": "80211048",
   "metadata": {},
   "outputs": [
    {
     "name": "stdout",
     "output_type": "stream",
     "text": [
      "Collecting pytube\n",
      "  Downloading pytube-12.1.2-py3-none-any.whl (57 kB)\n",
      "     ---------------------------------------- 57.0/57.0 kB ? eta 0:00:00\n",
      "Installing collected packages: pytube\n",
      "Successfully installed pytube-12.1.2\n",
      "Note: you may need to restart the kernel to use updated packages.\n"
     ]
    },
    {
     "name": "stderr",
     "output_type": "stream",
     "text": [
      "WARNING: Ignoring invalid distribution -atplotlib (c:\\users\\sirisha\\anaconda3\\envs\\gs\\lib\\site-packages)\n",
      "WARNING: Ignoring invalid distribution -atplotlib (c:\\users\\sirisha\\anaconda3\\envs\\gs\\lib\\site-packages)\n",
      "WARNING: Ignoring invalid distribution -atplotlib (c:\\users\\sirisha\\anaconda3\\envs\\gs\\lib\\site-packages)\n",
      "WARNING: Ignoring invalid distribution -atplotlib (c:\\users\\sirisha\\anaconda3\\envs\\gs\\lib\\site-packages)\n",
      "WARNING: Ignoring invalid distribution -atplotlib (c:\\users\\sirisha\\anaconda3\\envs\\gs\\lib\\site-packages)\n",
      "WARNING: Ignoring invalid distribution -atplotlib (c:\\users\\sirisha\\anaconda3\\envs\\gs\\lib\\site-packages)\n",
      "WARNING: Ignoring invalid distribution -atplotlib (c:\\users\\sirisha\\anaconda3\\envs\\gs\\lib\\site-packages)\n"
     ]
    }
   ],
   "source": [
    "pip install pytube"
   ]
  },
  {
   "cell_type": "code",
   "execution_count": 36,
   "id": "a22a0f00",
   "metadata": {
    "scrolled": true
   },
   "outputs": [
    {
     "name": "stdout",
     "output_type": "stream",
     "text": [
      "Youtube Video URL :- https://www.youtube.com/watch?v=l-wKNs52ZY0\n"
     ]
    },
    {
     "name": "stderr",
     "output_type": "stream",
     "text": [
      "C:\\Users\\Sirisha\\AppData\\Local\\Temp\\ipykernel_11700\\3269768737.py:6: DeprecationWarning: Call to deprecated function all (This object can be treated as a list, all() is useless).\n",
      "  videos = video_demo.streams.all()\n"
     ]
    },
    {
     "name": "stdout",
     "output_type": "stream",
     "text": [
      "(0, <Stream: itag=\"17\" mime_type=\"video/3gpp\" res=\"144p\" fps=\"8fps\" vcodec=\"mp4v.20.3\" acodec=\"mp4a.40.2\" progressive=\"True\" type=\"video\">)\n",
      "(1, <Stream: itag=\"18\" mime_type=\"video/mp4\" res=\"360p\" fps=\"30fps\" vcodec=\"avc1.42001E\" acodec=\"mp4a.40.2\" progressive=\"True\" type=\"video\">)\n",
      "(2, <Stream: itag=\"22\" mime_type=\"video/mp4\" res=\"720p\" fps=\"30fps\" vcodec=\"avc1.64001F\" acodec=\"mp4a.40.2\" progressive=\"True\" type=\"video\">)\n",
      "(3, <Stream: itag=\"137\" mime_type=\"video/mp4\" res=\"1080p\" fps=\"30fps\" vcodec=\"avc1.640028\" progressive=\"False\" type=\"video\">)\n",
      "(4, <Stream: itag=\"248\" mime_type=\"video/webm\" res=\"1080p\" fps=\"30fps\" vcodec=\"vp9\" progressive=\"False\" type=\"video\">)\n",
      "(5, <Stream: itag=\"136\" mime_type=\"video/mp4\" res=\"720p\" fps=\"30fps\" vcodec=\"avc1.64001f\" progressive=\"False\" type=\"video\">)\n",
      "(6, <Stream: itag=\"247\" mime_type=\"video/webm\" res=\"720p\" fps=\"30fps\" vcodec=\"vp9\" progressive=\"False\" type=\"video\">)\n",
      "(7, <Stream: itag=\"135\" mime_type=\"video/mp4\" res=\"480p\" fps=\"30fps\" vcodec=\"avc1.4d401f\" progressive=\"False\" type=\"video\">)\n",
      "(8, <Stream: itag=\"244\" mime_type=\"video/webm\" res=\"480p\" fps=\"30fps\" vcodec=\"vp9\" progressive=\"False\" type=\"video\">)\n",
      "(9, <Stream: itag=\"134\" mime_type=\"video/mp4\" res=\"360p\" fps=\"30fps\" vcodec=\"avc1.4d401e\" progressive=\"False\" type=\"video\">)\n",
      "(10, <Stream: itag=\"243\" mime_type=\"video/webm\" res=\"360p\" fps=\"30fps\" vcodec=\"vp9\" progressive=\"False\" type=\"video\">)\n",
      "(11, <Stream: itag=\"133\" mime_type=\"video/mp4\" res=\"240p\" fps=\"30fps\" vcodec=\"avc1.4d4015\" progressive=\"False\" type=\"video\">)\n",
      "(12, <Stream: itag=\"242\" mime_type=\"video/webm\" res=\"240p\" fps=\"30fps\" vcodec=\"vp9\" progressive=\"False\" type=\"video\">)\n",
      "(13, <Stream: itag=\"160\" mime_type=\"video/mp4\" res=\"144p\" fps=\"30fps\" vcodec=\"avc1.4d400c\" progressive=\"False\" type=\"video\">)\n",
      "(14, <Stream: itag=\"278\" mime_type=\"video/webm\" res=\"144p\" fps=\"30fps\" vcodec=\"vp9\" progressive=\"False\" type=\"video\">)\n",
      "(15, <Stream: itag=\"139\" mime_type=\"audio/mp4\" abr=\"48kbps\" acodec=\"mp4a.40.5\" progressive=\"False\" type=\"audio\">)\n",
      "(16, <Stream: itag=\"140\" mime_type=\"audio/mp4\" abr=\"128kbps\" acodec=\"mp4a.40.2\" progressive=\"False\" type=\"audio\">)\n",
      "(17, <Stream: itag=\"249\" mime_type=\"audio/webm\" abr=\"50kbps\" acodec=\"opus\" progressive=\"False\" type=\"audio\">)\n",
      "(18, <Stream: itag=\"250\" mime_type=\"audio/webm\" abr=\"70kbps\" acodec=\"opus\" progressive=\"False\" type=\"audio\">)\n",
      "(19, <Stream: itag=\"251\" mime_type=\"audio/webm\" abr=\"160kbps\" acodec=\"opus\" progressive=\"False\" type=\"audio\">)\n"
     ]
    },
    {
     "data": {
      "text/plain": [
       "'C:\\\\Users\\\\Sirisha\\\\Untitled Folder\\\\videos\\\\Vamsi Krishna\\\\Story 78  Comfort Zone lo Kaadhu Complicated Zone lo Brathakatam Nerchukovaali  Vamsee Krishna.3gpp'"
      ]
     },
     "execution_count": 36,
     "metadata": {},
     "output_type": "execute_result"
    }
   ],
   "source": [
    "from pytube import YouTube\n",
    "\n",
    "link = input(str(\"Youtube Video URL :- \"))\n",
    "video_demo = YouTube(link)\n",
    "\n",
    "videos = video_demo.streams.all()\n",
    "vid = list(enumerate(videos))\n",
    "for i in vid:\n",
    "    print(i)\n",
    "strm = int()\n",
    "videos[strm].download()"
   ]
  },
  {
   "cell_type": "markdown",
   "id": "e46cae70",
   "metadata": {},
   "source": [
    "<h3>VIEDO TO AUDIO</h3>"
   ]
  },
  {
   "cell_type": "markdown",
   "id": "8edb02d8",
   "metadata": {},
   "source": [
    "**Required Libraries :-** <h4 style=\"color:orange\"> moviepy </h4>"
   ]
  },
  {
   "cell_type": "code",
   "execution_count": 1,
   "id": "56f095cb",
   "metadata": {},
   "outputs": [
    {
     "name": "stdout",
     "output_type": "stream",
     "text": [
      "Requirement already satisfied: moviepy in c:\\users\\sirisha\\anaconda3\\envs\\gs\\lib\\site-packages (1.0.3)\n",
      "Requirement already satisfied: proglog<=1.0.0 in c:\\users\\sirisha\\anaconda3\\envs\\gs\\lib\\site-packages (from moviepy) (0.1.10)\n",
      "Requirement already satisfied: numpy in c:\\users\\sirisha\\anaconda3\\envs\\gs\\lib\\site-packages (from moviepy) (1.22.4)\n",
      "Requirement already satisfied: imageio<3.0,>=2.5 in c:\\users\\sirisha\\anaconda3\\envs\\gs\\lib\\site-packages (from moviepy) (2.22.4)\n",
      "Requirement already satisfied: requests<3.0,>=2.8.1 in c:\\users\\sirisha\\anaconda3\\envs\\gs\\lib\\site-packages (from moviepy) (2.28.2)\n",
      "Requirement already satisfied: tqdm<5.0,>=4.11.2 in c:\\users\\sirisha\\anaconda3\\envs\\gs\\lib\\site-packages (from moviepy) (4.64.1)\n",
      "Requirement already satisfied: imageio-ffmpeg>=0.2.0 in c:\\users\\sirisha\\anaconda3\\envs\\gs\\lib\\site-packages (from moviepy) (0.4.8)\n",
      "Requirement already satisfied: decorator<5.0,>=4.0.2 in c:\\users\\sirisha\\anaconda3\\envs\\gs\\lib\\site-packages (from moviepy) (4.4.2)\n",
      "Requirement already satisfied: pillow>=8.3.2 in c:\\users\\sirisha\\anaconda3\\envs\\gs\\lib\\site-packages (from imageio<3.0,>=2.5->moviepy) (9.2.0)\n",
      "Requirement already satisfied: urllib3<1.27,>=1.21.1 in c:\\users\\sirisha\\anaconda3\\envs\\gs\\lib\\site-packages (from requests<3.0,>=2.8.1->moviepy) (1.26.14)\n",
      "Requirement already satisfied: idna<4,>=2.5 in c:\\users\\sirisha\\anaconda3\\envs\\gs\\lib\\site-packages (from requests<3.0,>=2.8.1->moviepy) (3.4)\n",
      "Requirement already satisfied: charset-normalizer<4,>=2 in c:\\users\\sirisha\\anaconda3\\envs\\gs\\lib\\site-packages (from requests<3.0,>=2.8.1->moviepy) (2.1.1)\n",
      "Requirement already satisfied: certifi>=2017.4.17 in c:\\users\\sirisha\\anaconda3\\envs\\gs\\lib\\site-packages (from requests<3.0,>=2.8.1->moviepy) (2022.12.7)\n",
      "Requirement already satisfied: colorama in c:\\users\\sirisha\\anaconda3\\envs\\gs\\lib\\site-packages (from tqdm<5.0,>=4.11.2->moviepy) (0.4.5)\n",
      "Note: you may need to restart the kernel to use updated packages.\n"
     ]
    },
    {
     "name": "stderr",
     "output_type": "stream",
     "text": [
      "WARNING: Ignoring invalid distribution -atplotlib (c:\\users\\sirisha\\anaconda3\\envs\\gs\\lib\\site-packages)\n",
      "WARNING: Ignoring invalid distribution -atplotlib (c:\\users\\sirisha\\anaconda3\\envs\\gs\\lib\\site-packages)\n",
      "WARNING: Ignoring invalid distribution -atplotlib (c:\\users\\sirisha\\anaconda3\\envs\\gs\\lib\\site-packages)\n",
      "WARNING: Ignoring invalid distribution -atplotlib (c:\\users\\sirisha\\anaconda3\\envs\\gs\\lib\\site-packages)\n",
      "WARNING: Ignoring invalid distribution -atplotlib (c:\\users\\sirisha\\anaconda3\\envs\\gs\\lib\\site-packages)\n",
      "WARNING: Ignoring invalid distribution -atplotlib (c:\\users\\sirisha\\anaconda3\\envs\\gs\\lib\\site-packages)\n"
     ]
    }
   ],
   "source": [
    "pip install moviepy"
   ]
  },
  {
   "cell_type": "code",
   "execution_count": 42,
   "id": "dca5b426",
   "metadata": {},
   "outputs": [
    {
     "name": "stdout",
     "output_type": "stream",
     "text": [
      "C:\\Users\\Sirisha\\Untitled Folder\\audio\\Sri Garikipati Narasimha Rao\n"
     ]
    }
   ],
   "source": [
    "cd \"Sri Garikipati Narasimha Rao\""
   ]
  },
  {
   "cell_type": "code",
   "execution_count": 52,
   "id": "da955d8a",
   "metadata": {},
   "outputs": [
    {
     "name": "stdout",
     "output_type": "stream",
     "text": [
      "MoviePy - Writing audio in Sri Garikipati Narasimha Rao10.mp3\n"
     ]
    },
    {
     "name": "stderr",
     "output_type": "stream",
     "text": [
      "                                                                                                                       "
     ]
    },
    {
     "name": "stdout",
     "output_type": "stream",
     "text": [
      "MoviePy - Done.\n",
      "--End--\n"
     ]
    },
    {
     "name": "stderr",
     "output_type": "stream",
     "text": [
      "\r"
     ]
    }
   ],
   "source": [
    "import moviepy.editor\n",
    "from tkinter.filedialog import *\n",
    "\n",
    "vid = askopenfilename()\n",
    "video = moviepy.editor.VideoFileClip(vid)\n",
    "\n",
    "aud = video.audio\n",
    "aud.write_audiofile(\"Sri Garikipati Narasimha Rao10.mp3\")\n",
    "\n",
    "print(\"--End--\")"
   ]
  },
  {
   "cell_type": "markdown",
   "id": "a1307380",
   "metadata": {},
   "source": [
    "<h3>AUDIO TO WAV FILE</h3>"
   ]
  },
  {
   "cell_type": "markdown",
   "id": "b30d7461",
   "metadata": {},
   "source": [
    "**Required Libraries :-** \n",
    "<h4 style=\"color:orange\"> pydub </h4>"
   ]
  },
  {
   "cell_type": "markdown",
   "id": "0aaf4dc6",
   "metadata": {},
   "source": [
    "**FFMPEG :- Fast Forward Moving Picture Experts Group**\n",
    "\n",
    "\n",
    "**USED :- It is a free and open source software project that offers many tools for video and audio processing. It's designed to run on a command line interface, and has many different libraries and programs to manipulate and handle video files.****\n",
    "<h3 style=\"color:orange\"> ffmpeg </h3>"
   ]
  },
  {
   "cell_type": "code",
   "execution_count": 2,
   "id": "e78262fb",
   "metadata": {},
   "outputs": [
    {
     "name": "stdout",
     "output_type": "stream",
     "text": [
      "Collecting pydub\n",
      "  Using cached pydub-0.25.1-py2.py3-none-any.whl (32 kB)\n",
      "Installing collected packages: pydub\n",
      "Successfully installed pydub-0.25.1\n",
      "Note: you may need to restart the kernel to use updated packages.\n"
     ]
    }
   ],
   "source": [
    "pip install pydub"
   ]
  },
  {
   "cell_type": "code",
   "execution_count": 8,
   "id": "1c79c66e",
   "metadata": {},
   "outputs": [
    {
     "name": "stdout",
     "output_type": "stream",
     "text": [
      "C:\\Users\\Sirisha\\Untitled Folder\\wav\\BR SHAFI\n"
     ]
    }
   ],
   "source": [
    "cd \"BR SHAFI\""
   ]
  },
  {
   "cell_type": "code",
   "execution_count": 55,
   "id": "0eba9aee",
   "metadata": {},
   "outputs": [
    {
     "name": "stdout",
     "output_type": "stream",
     "text": [
      "[WinError 267] The directory name is invalid: 'BR_SHAFI.mp3'\n",
      "C:\\Users\\Sirisha\\Untitled Folder\\audio\\BR SHAFI\n"
     ]
    }
   ],
   "source": [
    "cd BR_SHAFI.mp3"
   ]
  },
  {
   "cell_type": "code",
   "execution_count": 2,
   "id": "a9643254",
   "metadata": {},
   "outputs": [],
   "source": [
    "import os\n",
    "from os import path"
   ]
  },
  {
   "cell_type": "code",
   "execution_count": 48,
   "id": "549b7b9d",
   "metadata": {
    "scrolled": true
   },
   "outputs": [
    {
     "name": "stdout",
     "output_type": "stream",
     "text": [
      "Collecting ffmpeg\n",
      "  Downloading ffmpeg-1.4.tar.gz (5.1 kB)\n",
      "  Preparing metadata (setup.py): started\n",
      "  Preparing metadata (setup.py): finished with status 'done'\n",
      "Building wheels for collected packages: ffmpeg\n",
      "  Building wheel for ffmpeg (setup.py): started\n",
      "  Building wheel for ffmpeg (setup.py): finished with status 'done'\n",
      "  Created wheel for ffmpeg: filename=ffmpeg-1.4-py3-none-any.whl size=6083 sha256=749f005e94a11b4063676d1ca79391c608b01a61e046ab0aa09c9dcd89f7651d\n",
      "  Stored in directory: c:\\users\\sirisha\\appdata\\local\\pip\\cache\\wheels\\1d\\57\\24\\4eff6a03a9ea0e647568e8a5a0546cdf957e3cf005372c0245\n",
      "Successfully built ffmpeg\n",
      "Installing collected packages: ffmpeg\n",
      "Successfully installed ffmpeg-1.4\n",
      "Note: you may need to restart the kernel to use updated packages.\n"
     ]
    },
    {
     "name": "stderr",
     "output_type": "stream",
     "text": [
      "WARNING: Ignoring invalid distribution -atplotlib (c:\\users\\sirisha\\anaconda3\\envs\\gs\\lib\\site-packages)\n",
      "WARNING: Ignoring invalid distribution -atplotlib (c:\\users\\sirisha\\anaconda3\\envs\\gs\\lib\\site-packages)\n",
      "WARNING: Ignoring invalid distribution -atplotlib (c:\\users\\sirisha\\anaconda3\\envs\\gs\\lib\\site-packages)\n",
      "WARNING: Ignoring invalid distribution -atplotlib (c:\\users\\sirisha\\anaconda3\\envs\\gs\\lib\\site-packages)\n",
      "WARNING: Ignoring invalid distribution -atplotlib (c:\\users\\sirisha\\anaconda3\\envs\\gs\\lib\\site-packages)\n",
      "WARNING: Ignoring invalid distribution -atplotlib (c:\\users\\sirisha\\anaconda3\\envs\\gs\\lib\\site-packages)\n",
      "WARNING: Ignoring invalid distribution -atplotlib (c:\\users\\sirisha\\anaconda3\\envs\\gs\\lib\\site-packages)\n"
     ]
    }
   ],
   "source": [
    "pip install ffmpeg"
   ]
  },
  {
   "cell_type": "code",
   "execution_count": 1,
   "id": "54cfa3a9",
   "metadata": {},
   "outputs": [],
   "source": [
    "import pydub \n",
    "from pydub import AudioSegment"
   ]
  },
  {
   "cell_type": "code",
   "execution_count": 16,
   "id": "ae0809b9",
   "metadata": {},
   "outputs": [],
   "source": [
    "input_file = r\"C:\\\\Users\\\\Sirisha\\\\AUDIO\\\\audio\\\\Vamsi Krishna\\\\vamsi krishna total audio.mp3\"\n",
    "output_file = r\"C:\\\\Users\\\\Sirisha\\\\AUDIO\\\\wav\\\\Vamsi Krishna\\\\vamsi krishna total audio.mav\""
   ]
  },
  {
   "cell_type": "code",
   "execution_count": 17,
   "id": "93827599",
   "metadata": {},
   "outputs": [],
   "source": [
    "sound = AudioSegment.from_mp3(input_file)"
   ]
  },
  {
   "cell_type": "code",
   "execution_count": 18,
   "id": "8d0dcb25",
   "metadata": {
    "scrolled": true
   },
   "outputs": [
    {
     "data": {
      "text/plain": [
       "<_io.BufferedRandom name='C:\\\\\\\\Users\\\\\\\\Sirisha\\\\\\\\AUDIO\\\\\\\\wav\\\\\\\\Vamsi Krishna\\\\\\\\vamsi krishna total audio.mav'>"
      ]
     },
     "execution_count": 18,
     "metadata": {},
     "output_type": "execute_result"
    }
   ],
   "source": [
    "sound.export(output_file, format = \"wav\")"
   ]
  }
 ],
 "metadata": {
  "kernelspec": {
   "display_name": "Python 3 (ipykernel)",
   "language": "python",
   "name": "python3"
  },
  "language_info": {
   "codemirror_mode": {
    "name": "ipython",
    "version": 3
   },
   "file_extension": ".py",
   "mimetype": "text/x-python",
   "name": "python",
   "nbconvert_exporter": "python",
   "pygments_lexer": "ipython3",
   "version": "3.9.0"
  }
 },
 "nbformat": 4,
 "nbformat_minor": 5
}
