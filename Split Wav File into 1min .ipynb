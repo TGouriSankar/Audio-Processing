{
 "cells": [
  {
   "cell_type": "code",
   "execution_count": null,
   "id": "7a0d0d64",
   "metadata": {},
   "outputs": [],
   "source": [
    "import pydub\n",
    "from pydub import AudioSegment\n",
    "\n",
    "#Works in milliseconds\n",
    "t1 = 0 * 60000  \n",
    "t2 = 60000 \n",
    "\n",
    "t3 = 60000\n",
    "t4 = 120000\n",
    "\n",
    "t5 = 120000\n",
    "t6 = 180000\n",
    "\n",
    "t7 = 180000\n",
    "t8 = 240000\n",
    "\n",
    "t9 = 240000\n",
    "t10 = 300000\n",
    "\n",
    "#split audio into 1min \n",
    "newAudio = AudioSegment.from_wav(\"C:\\\\Users\\\\Sirisha\\\\AUDIO\\\\wav\\\\Pawan Kalyan\\\\pawan Kalyan10.wav\")\n",
    "newAudio1 = newAudio[t1:t2]\n",
    "newAudio2 = newAudio[t3:t4]\n",
    "newAudio3 = newAudio[t5:t6]\n",
    "newAudio4 = newAudio[t7:t8]\n",
    "newAudio5 = newAudio[t9:t10]\n",
    "\n",
    "\n",
    "#Output dir path\n",
    "print(newAudio1.export(\"C:\\\\Users\\\\Sirisha\\\\AUDIO\\\\wav\\\\Pawan Kalyan\\\\ALL SPLIT Pawan Kalyan\\\\Pawan Kalyan10 part1.wav\", format=\"wav\"))\n",
    "print(newAudio2.export(\"C:\\\\Users\\\\Sirisha\\\\AUDIO\\\\wav\\\\Pawan Kalyan\\\\ALL SPLIT Pawan Kalyan\\\\Pawan Kalyan10 part2.wav\", format=\"wav\"))\n",
    "print(newAudio3.export(\"C:\\\\Users\\\\Sirisha\\\\AUDIO\\\\wav\\\\Pawan Kalyan\\\\ALL SPLIT Pawan Kalyan\\\\Pawan Kalyan10 part3.wav\", format=\"wav\"))\n",
    "print(newAudio4.export(\"C:\\\\Users\\\\Sirisha\\\\AUDIO\\\\wav\\\\Pawan Kalyan\\\\ALL SPLIT Pawan Kalyan\\\\Pawan Kalyan10 part4.wav\", format=\"wav\"))\n",
    "print(newAudio5.export(\"C:\\\\Users\\\\Sirisha\\\\AUDIO\\\\wav\\\\Pawan Kalyan\\\\ALL SPLIT Pawan Kalyan\\\\Pawan Kalyan10 part5.wav\", format=\"wav\"))\n"
   ]
  }
 ],
 "metadata": {
  "kernelspec": {
   "display_name": "Python 3 (ipykernel)",
   "language": "python",
   "name": "python3"
  },
  "language_info": {
   "codemirror_mode": {
    "name": "ipython",
    "version": 3
   },
   "file_extension": ".py",
   "mimetype": "text/x-python",
   "name": "python",
   "nbconvert_exporter": "python",
   "pygments_lexer": "ipython3",
   "version": "3.9.0"
  }
 },
 "nbformat": 4,
 "nbformat_minor": 5
}
