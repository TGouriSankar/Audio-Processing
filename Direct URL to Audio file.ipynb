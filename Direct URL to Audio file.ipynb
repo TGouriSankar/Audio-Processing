{
 "cells": [
  {
   "cell_type": "raw",
   "id": "36551812",
   "metadata": {},
   "source": [
    "#importing packages\n",
    "from pytube import YouTube\n",
    "import os\n",
    "\n",
    "# url import from user\n",
    "yt = YouTube(input(\"Enter the url of the viedo\"))\n",
    "\n",
    "#extract only audio\n",
    "video = yt.streams.filter(only_audio=True).first()\n",
    "\n",
    "#replace destination with the path where you want to save the download file\n",
    "destination = \n",
    "\n",
    "# download the file\n",
    "out_file = video.download(output_path=destination)\n",
    "\n",
    "# save the file\n",
    "base, ext = os.path.splitext(out_file)\n",
    "new_file = base + '.mp3'\n",
    "os.rename(out_file, new_file)\n",
    "# result of file\n",
    "print(yt.title + \" has been successfully downloaded\")"
   ]
  },
  {
   "cell_type": "code",
   "execution_count": 3,
   "id": "b925314e",
   "metadata": {},
   "outputs": [
    {
     "name": "stdout",
     "output_type": "stream",
     "text": [
      "Enter the url of the viedohttps://www.youtube.com/watch?v=P7RFWjvOa-A\n",
      "Minister Malla Reddy 4️⃣0️⃣ Minutes Non-STOP Comedy🤣😂Speech In Assembly | Mallanna Funny | YOYO TV has been successfully downloaded\n"
     ]
    }
   ],
   "source": [
    "import os\n",
    "from pytube import YouTube\n",
    "yt = YouTube(input(\"Enter the url of the viedo\"))\n",
    "video = yt.streams.filter(only_audio=True).first()\n",
    "destination = r'C:\\Users\\Sirisha\\AUDIO' \n",
    "out_file = video.download(output_path=destination)\n",
    "base, ext = os.path.splitext(out_file)\n",
    "new_file = base + '.mp3'\n",
    "os.rename(out_file, \"Malla Reddy\")\n",
    "print(yt.title + \" has been successfully downloaded\")"
   ]
  },
  {
   "cell_type": "code",
   "execution_count": 4,
   "id": "0a0fce3d",
   "metadata": {},
   "outputs": [
    {
     "name": "stdout",
     "output_type": "stream",
     "text": [
      "Enter the url of the viedohttps://www.youtube.com/watch?v=P7RFWjvOa-A\n",
      "Minister Malla Reddy 4️⃣0️⃣ Minutes Non-STOP Comedy🤣😂Speech In Assembly | Mallanna Funny | YOYO TVsuccessful\n"
     ]
    }
   ],
   "source": [
    "import os\n",
    "yt = YouTube(input(\"Enter the url of the viedo\"))\n",
    "video = yt.streams.filter(only_audio=True).first()\n",
    "destination = r'C:\\\\Users\\\\Sirisha\\\\AUDIO' \n",
    "out_file = video.download(output_path=destination)\n",
    "base, ext = os.path.splitext(out_file)\n",
    "new_file = base + \".mp3\"\n",
    "\n",
    "print(yt.title+ \"successful\")"
   ]
  },
  {
   "cell_type": "markdown",
   "id": "a570cdd6",
   "metadata": {},
   "source": [
    "**AUDIO + NOISE**"
   ]
  },
  {
   "cell_type": "code",
   "execution_count": 39,
   "id": "635c2f60",
   "metadata": {
    "collapsed": true
   },
   "outputs": [
    {
     "ename": "PermissionError",
     "evalue": "[Errno 13] Permission denied: 'C:\\\\Users\\\\Sirisha\\\\AUDIO\\\\merge'",
     "output_type": "error",
     "traceback": [
      "\u001b[1;31m---------------------------------------------------------------------------\u001b[0m",
      "\u001b[1;31mPermissionError\u001b[0m                           Traceback (most recent call last)",
      "Cell \u001b[1;32mIn[39], line 8\u001b[0m\n\u001b[0;32m      6\u001b[0m combined_sounds \u001b[38;5;241m=\u001b[39m sound1 \u001b[38;5;241m+\u001b[39m sound2\n\u001b[0;32m      7\u001b[0m output_dir \u001b[38;5;241m=\u001b[39m \u001b[38;5;124m\"\u001b[39m\u001b[38;5;124mC:\u001b[39m\u001b[38;5;130;01m\\\\\u001b[39;00m\u001b[38;5;124mUsers\u001b[39m\u001b[38;5;130;01m\\\\\u001b[39;00m\u001b[38;5;124mSirisha\u001b[39m\u001b[38;5;130;01m\\\\\u001b[39;00m\u001b[38;5;124mAUDIO\u001b[39m\u001b[38;5;130;01m\\\\\u001b[39;00m\u001b[38;5;124mmerge\u001b[39m\u001b[38;5;124m\"\u001b[39m\n\u001b[1;32m----> 8\u001b[0m \u001b[43mcombined_sounds\u001b[49m\u001b[38;5;241;43m.\u001b[39;49m\u001b[43mexport\u001b[49m\u001b[43m(\u001b[49m\u001b[43moutput_dir\u001b[49m\u001b[43m,\u001b[49m\u001b[43m \u001b[49m\u001b[38;5;28;43mformat\u001b[39;49m\u001b[43m \u001b[49m\u001b[38;5;241;43m=\u001b[39;49m\u001b[43m \u001b[49m\u001b[38;5;124;43m\"\u001b[39;49m\u001b[38;5;124;43mwav\u001b[39;49m\u001b[38;5;124;43m\"\u001b[39;49m\u001b[43m)\u001b[49m\n",
      "File \u001b[1;32m~\\anaconda3\\envs\\gs\\lib\\site-packages\\pydub\\audio_segment.py:867\u001b[0m, in \u001b[0;36mAudioSegment.export\u001b[1;34m(self, out_f, format, codec, bitrate, parameters, tags, id3v2_version, cover)\u001b[0m\n\u001b[0;32m    861\u001b[0m \u001b[38;5;28;01mif\u001b[39;00m \u001b[38;5;28mformat\u001b[39m \u001b[38;5;241m==\u001b[39m \u001b[38;5;124m\"\u001b[39m\u001b[38;5;124mraw\u001b[39m\u001b[38;5;124m\"\u001b[39m \u001b[38;5;129;01mand\u001b[39;00m (codec \u001b[38;5;129;01mis\u001b[39;00m \u001b[38;5;129;01mnot\u001b[39;00m \u001b[38;5;28;01mNone\u001b[39;00m \u001b[38;5;129;01mor\u001b[39;00m parameters \u001b[38;5;129;01mis\u001b[39;00m \u001b[38;5;129;01mnot\u001b[39;00m \u001b[38;5;28;01mNone\u001b[39;00m):\n\u001b[0;32m    862\u001b[0m     \u001b[38;5;28;01mraise\u001b[39;00m \u001b[38;5;167;01mAttributeError\u001b[39;00m(\n\u001b[0;32m    863\u001b[0m             \u001b[38;5;124m'\u001b[39m\u001b[38;5;124mCan not invoke ffmpeg when export format is \u001b[39m\u001b[38;5;124m\"\u001b[39m\u001b[38;5;124mraw\u001b[39m\u001b[38;5;124m\"\u001b[39m\u001b[38;5;124m; \u001b[39m\u001b[38;5;124m'\u001b[39m\n\u001b[0;32m    864\u001b[0m             \u001b[38;5;124m'\u001b[39m\u001b[38;5;124mspecify an ffmpeg raw format like format=\u001b[39m\u001b[38;5;124m\"\u001b[39m\u001b[38;5;124ms16le\u001b[39m\u001b[38;5;124m\"\u001b[39m\u001b[38;5;124m instead \u001b[39m\u001b[38;5;124m'\u001b[39m\n\u001b[0;32m    865\u001b[0m             \u001b[38;5;124m'\u001b[39m\u001b[38;5;124mor call export(format=\u001b[39m\u001b[38;5;124m\"\u001b[39m\u001b[38;5;124mraw\u001b[39m\u001b[38;5;124m\"\u001b[39m\u001b[38;5;124m) with no codec or parameters\u001b[39m\u001b[38;5;124m'\u001b[39m)\n\u001b[1;32m--> 867\u001b[0m out_f, _ \u001b[38;5;241m=\u001b[39m \u001b[43m_fd_or_path_or_tempfile\u001b[49m\u001b[43m(\u001b[49m\u001b[43mout_f\u001b[49m\u001b[43m,\u001b[49m\u001b[43m \u001b[49m\u001b[38;5;124;43m'\u001b[39;49m\u001b[38;5;124;43mwb+\u001b[39;49m\u001b[38;5;124;43m'\u001b[39;49m\u001b[43m)\u001b[49m\n\u001b[0;32m    868\u001b[0m out_f\u001b[38;5;241m.\u001b[39mseek(\u001b[38;5;241m0\u001b[39m)\n\u001b[0;32m    870\u001b[0m \u001b[38;5;28;01mif\u001b[39;00m \u001b[38;5;28mformat\u001b[39m \u001b[38;5;241m==\u001b[39m \u001b[38;5;124m\"\u001b[39m\u001b[38;5;124mraw\u001b[39m\u001b[38;5;124m\"\u001b[39m:\n",
      "File \u001b[1;32m~\\anaconda3\\envs\\gs\\lib\\site-packages\\pydub\\utils.py:60\u001b[0m, in \u001b[0;36m_fd_or_path_or_tempfile\u001b[1;34m(fd, mode, tempfile)\u001b[0m\n\u001b[0;32m     57\u001b[0m     close_fd \u001b[38;5;241m=\u001b[39m \u001b[38;5;28;01mTrue\u001b[39;00m\n\u001b[0;32m     59\u001b[0m \u001b[38;5;28;01mif\u001b[39;00m \u001b[38;5;28misinstance\u001b[39m(fd, basestring):\n\u001b[1;32m---> 60\u001b[0m     fd \u001b[38;5;241m=\u001b[39m \u001b[38;5;28;43mopen\u001b[39;49m\u001b[43m(\u001b[49m\u001b[43mfd\u001b[49m\u001b[43m,\u001b[49m\u001b[43m \u001b[49m\u001b[43mmode\u001b[49m\u001b[38;5;241;43m=\u001b[39;49m\u001b[43mmode\u001b[49m\u001b[43m)\u001b[49m\n\u001b[0;32m     61\u001b[0m     close_fd \u001b[38;5;241m=\u001b[39m \u001b[38;5;28;01mTrue\u001b[39;00m\n\u001b[0;32m     63\u001b[0m \u001b[38;5;28;01mtry\u001b[39;00m:\n",
      "\u001b[1;31mPermissionError\u001b[0m: [Errno 13] Permission denied: 'C:\\\\Users\\\\Sirisha\\\\AUDIO\\\\merge'"
     ]
    }
   ],
   "source": [
    "from pydub import AudioSegment\n",
    "\n",
    "sound1 = AudioSegment.from_wav('C:\\\\Users\\\\Sirisha\\\\AUDIO\\\\wav\\\\BR SHAFI\\\\BR SHAFI.wav')\n",
    "sound2 = AudioSegment.from_wav('C:\\\\Users\\\\Sirisha\\\\AUDIO\\\\Urban noise wav\\\\bird-robin-isolated-30091.wav')\n",
    "\n",
    "combined_sounds = sound1 + sound2\n",
    "output_dir = \"C:\\\\Users\\\\Sirisha\\\\AUDIO\\\\merge\"\n",
    "combined_sounds.export(output_dir, format = \"wav\")"
   ]
  },
  {
   "cell_type": "markdown",
   "id": "cfb3884b",
   "metadata": {},
   "source": [
    "**Merge The Audio File:-**"
   ]
  },
  {
   "cell_type": "markdown",
   "id": "97e1436d",
   "metadata": {},
   "source": [
    "***********************TO Create A Long Audio File***********************"
   ]
  },
  {
   "cell_type": "code",
   "execution_count": 10,
   "id": "fecd0910",
   "metadata": {},
   "outputs": [
    {
     "name": "stdout",
     "output_type": "stream",
     "text": [
      "MoviePy - Writing audio in C:\\Users\\Sirisha\\AUDIO\\audio\\Vamsi Krishna\\vamsi krishna total audio.mp3\n"
     ]
    },
    {
     "name": "stderr",
     "output_type": "stream",
     "text": [
      "                                                                                                                       "
     ]
    },
    {
     "name": "stdout",
     "output_type": "stream",
     "text": [
      "MoviePy - Done.\n"
     ]
    },
    {
     "name": "stderr",
     "output_type": "stream",
     "text": [
      "\r"
     ]
    }
   ],
   "source": [
    "import moviepy\n",
    "from moviepy.editor import concatenate_audioclips, AudioFileClip\n",
    "\n",
    "input_aud1 = AudioFileClip(r\"C:\\Users\\Sirisha\\AUDIO\\audio\\Vamsi Krishna\\vamsi krishna1.mp3\")\n",
    "input_aud2 = AudioFileClip(r\"C:\\Users\\Sirisha\\AUDIO\\audio\\Vamsi Krishna\\vamsi krishna2.mp3\")\n",
    "input_aud3 = AudioFileClip(r\"C:\\Users\\Sirisha\\AUDIO\\audio\\Vamsi Krishna\\vamsi krishna3.mp3\")\n",
    "input_aud4 = AudioFileClip(r\"C:\\Users\\Sirisha\\AUDIO\\audio\\Vamsi Krishna\\vamsi krishna4.mp3\")\n",
    "input_aud5 = AudioFileClip(r\"C:\\Users\\Sirisha\\AUDIO\\audio\\Vamsi Krishna\\vamsi krishna5.mp3\")\n",
    "input_aud6 = AudioFileClip(r\"C:\\Users\\Sirisha\\AUDIO\\audio\\Vamsi Krishna\\vamsi krishna6.mp3\")\n",
    "input_aud7 = AudioFileClip(r\"C:\\Users\\Sirisha\\AUDIO\\audio\\Vamsi Krishna\\vamsi krishna7.mp3\")\n",
    "input_aud8 = AudioFileClip(r\"C:\\Users\\Sirisha\\AUDIO\\audio\\Vamsi Krishna\\vamsi krishna8.mp3\")\n",
    "input_aud9 = AudioFileClip(r\"C:\\Users\\Sirisha\\AUDIO\\audio\\Vamsi Krishna\\vamsi krishna9.mp3\")\n",
    "input_aud10= AudioFileClip(r\"C:\\Users\\Sirisha\\AUDIO\\audio\\Vamsi Krishna\\vamsi krishna10.mp3\")\n",
    "\n",
    "\n",
    "final_audio = concatenate_audioclips([input_aud1, input_aud2,input_aud3,input_aud4,input_aud5,input_aud6,input_aud7,input_aud8,input_aud9,input_aud10])\n",
    "final_audio.write_audiofile(r\"C:\\Users\\Sirisha\\AUDIO\\audio\\Vamsi Krishna\\vamsi krishna total audio.mp3\")"
   ]
  },
  {
   "cell_type": "code",
   "execution_count": null,
   "id": "8ae58c31",
   "metadata": {},
   "outputs": [],
   "source": []
  }
 ],
 "metadata": {
  "kernelspec": {
   "display_name": "Python 3 (ipykernel)",
   "language": "python",
   "name": "python3"
  },
  "language_info": {
   "codemirror_mode": {
    "name": "ipython",
    "version": 3
   },
   "file_extension": ".py",
   "mimetype": "text/x-python",
   "name": "python",
   "nbconvert_exporter": "python",
   "pygments_lexer": "ipython3",
   "version": "3.9.0"
  }
 },
 "nbformat": 4,
 "nbformat_minor": 5
}
